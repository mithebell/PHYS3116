{
  "cells": [
    {
      "cell_type": "markdown",
      "metadata": {},
      "source": [
        "# Spotted Python Week 2 Tutorial\n",
        "In this script, we aim to practice the following skills:\n",
        "- Markdown\n",
        "- Importing modules\n",
        "- Simple arithmetic\n",
        "- Manipulating lists and arrays\n",
        "- Creating functions"
      ]
    },
    {
      "cell_type": "code",
      "execution_count": 1,
      "metadata": {
        "id": "Idnq3_kHqzu1"
      },
      "outputs": [],
      "source": [
        "# It is standard practice to import the required modules at the beginning of the script\n",
        "import numpy as np # for this tutorial, we will only be using numpy"
      ]
    },
    {
      "cell_type": "markdown",
      "metadata": {
        "id": "J7Dg_loiq3jN"
      },
      "source": [
        "## Markdown\n",
        "The following can be used as a reference for basic Markdown formatting syntax.\n",
        "\n",
        "---\n",
        "#### *<ins>Headings</ins>*\n",
        "# Heading 1\n",
        "## Heading 2\n",
        "### Heading 3\n",
        "#### Heading 4\n",
        "##### Heading 5\n",
        "###### Heading 6\n",
        "\n",
        "---\n",
        "#### *<ins>Ordered List</ins>*\n",
        "1. Item 1\n",
        "2. Item 2\n",
        "3. Item 3\n",
        "\n",
        "---\n",
        "#### *<ins>Unordered List</ins>*\n",
        "- Item 1\n",
        "- Item 2\n",
        "- Item 3\n",
        "\n",
        "---\n",
        "#### *<ins>Other Elements</ins>*\n",
        "| Element        | Markdown                                                                     |\n",
        "|----------------|------------------------------------------------------------------------------|\n",
        "| Bold           | **Bold**                                                                     |\n",
        "| Italic         | *Italic*                                                                     |\n",
        "| Bold and Italic| ***Bold and Italic***\n",
        "| Highlight      | <mark>Highlight</mark>                                                       |\n",
        "| Underline      | <ins>Underline</ins>                                                         |\n",
        "| Strikethrough  | ~~Strikethrough~~                                                            |\n",
        "| Link           | [PHYS3116 Moodle](https://moodle.telt.unsw.edu.au/course/view.php?id=85622)  |"
      ]
    },
    {
      "cell_type": "markdown",
      "metadata": {},
      "source": [
        "### **Exercise 1**\n",
        "Write an introduction about yourself in the following space. Try to be creative with your Markdown skills."
      ]
    },
    {
      "cell_type": "markdown",
      "metadata": {},
      "source": [
        "Write your introduction here"
      ]
    },
    {
      "cell_type": "markdown",
      "metadata": {},
      "source": [
        "## BODMAS with Python\n",
        "Let's try doing some arithmetics using Python"
      ]
    },
    {
      "cell_type": "code",
      "execution_count": 2,
      "metadata": {},
      "outputs": [
        {
          "data": {
            "text/plain": [
              "2.0"
            ]
          },
          "execution_count": 2,
          "metadata": {},
          "output_type": "execute_result"
        }
      ],
      "source": [
        "4/2"
      ]
    },
    {
      "cell_type": "code",
      "execution_count": 3,
      "metadata": {},
      "outputs": [
        {
          "data": {
            "text/plain": [
              "57"
            ]
          },
          "execution_count": 3,
          "metadata": {},
          "output_type": "execute_result"
        }
      ],
      "source": [
        "3*19"
      ]
    },
    {
      "cell_type": "code",
      "execution_count": 4,
      "metadata": {},
      "outputs": [
        {
          "data": {
            "text/plain": [
              "1728"
            ]
          },
          "execution_count": 4,
          "metadata": {},
          "output_type": "execute_result"
        }
      ],
      "source": [
        "12**3"
      ]
    },
    {
      "cell_type": "code",
      "execution_count": 5,
      "metadata": {},
      "outputs": [
        {
          "data": {
            "text/plain": [
              "1"
            ]
          },
          "execution_count": 5,
          "metadata": {},
          "output_type": "execute_result"
        }
      ],
      "source": [
        "(77*21)%4"
      ]
    },
    {
      "cell_type": "code",
      "execution_count": 6,
      "metadata": {},
      "outputs": [
        {
          "data": {
            "text/plain": [
              "7.931712199461316"
            ]
          },
          "execution_count": 6,
          "metadata": {},
          "output_type": "execute_result"
        }
      ],
      "source": [
        "(481**0.5-22*5)%8"
      ]
    },
    {
      "cell_type": "markdown",
      "metadata": {},
      "source": [
        "### **Example:**\n",
        "Calculate the escape velocity of a spacecraft to escape from the Earth's gravitational pull. Given,\n",
        "- $M_E= 5.97 \\times 10^{24} \\text{kg}$\n",
        "- $R_E=6371 \\text{km}$\n",
        "- $G=6.67 \\times 10^{−11}\\text{ m}^{3}\\text{kg}^{−1}\\text{s}^{−2}$\n",
        "- $v_{esc}=\\sqrt{\\frac{2GM}{R}}$"
      ]
    },
    {
      "cell_type": "code",
      "execution_count": 7,
      "metadata": {},
      "outputs": [
        {
          "name": "stdout",
          "output_type": "stream",
          "text": [
            "11180.501335284713\n"
          ]
        }
      ],
      "source": [
        "# Define the parameters\n",
        "M_earth = 5.97*10**24 # mass of earth, kg\n",
        "R_earth = 6371000 # radius of earth, m\n",
        "G = 6.67*10**-11 # gravitational constant, m^3kg^-1s^-2\n",
        "\n",
        "# Calculate the escape velocity\n",
        "v_esc = ((2*G*M_earth)/R_earth)**0.5 # escape velocity, ms^-1\n",
        "print(v_esc) # this prints the value"
      ]
    },
    {
      "cell_type": "markdown",
      "metadata": {},
      "source": [
        "### **Exercise 2:**\n",
        "Given the mass of the sun is $M_\\odot=1.989 \\times 10^{30} \\text{ kg}$, the radius of the sun is $R_\\odot=696340 \\text{ km}$, and the gravitational constant is $G=6.67 \\times 10^{−11}\\text{ m}^{3}\\text{kg}^{−1}\\text{s}^{−2}$. What is the gravitational acceleration of the Sun? Recall, $$g=\\frac{GM}{R^2}.$$"
      ]
    },
    {
      "cell_type": "code",
      "execution_count": null,
      "metadata": {},
      "outputs": [],
      "source": []
    },
    {
      "cell_type": "markdown",
      "metadata": {},
      "source": [
        "## Data Types and Lists"
      ]
    },
    {
      "cell_type": "code",
      "execution_count": 8,
      "metadata": {},
      "outputs": [
        {
          "data": {
            "text/plain": [
              "[2, 4.01, '6.888', 18.93]"
            ]
          },
          "execution_count": 8,
          "metadata": {},
          "output_type": "execute_result"
        }
      ],
      "source": [
        "# Define variables\n",
        "a = 2\n",
        "b = 4.010\n",
        "c = '6.888'\n",
        "d = 18.93\n",
        "numbers = [a, b, c, d]\n",
        "lecturers = ['Jesse', 'Nicole']\n",
        "tutors = ['Michelle', 'Finn']\n",
        "numbers"
      ]
    },
    {
      "cell_type": "markdown",
      "metadata": {},
      "source": [
        "Let's try the following"
      ]
    },
    {
      "cell_type": "code",
      "execution_count": 9,
      "metadata": {},
      "outputs": [
        {
          "data": {
            "text/plain": [
              "6.01"
            ]
          },
          "execution_count": 9,
          "metadata": {},
          "output_type": "execute_result"
        }
      ],
      "source": [
        "a+b"
      ]
    },
    {
      "cell_type": "code",
      "execution_count": 10,
      "metadata": {},
      "outputs": [
        {
          "ename": "TypeError",
          "evalue": "can only concatenate str (not \"float\") to str",
          "output_type": "error",
          "traceback": [
            "\u001b[31m---------------------------------------------------------------------------\u001b[39m",
            "\u001b[31mTypeError\u001b[39m                                 Traceback (most recent call last)",
            "\u001b[36mCell\u001b[39m\u001b[36m \u001b[39m\u001b[32mIn[10]\u001b[39m\u001b[32m, line 1\u001b[39m\n\u001b[32m----> \u001b[39m\u001b[32m1\u001b[39m \u001b[43mc\u001b[49m\u001b[43m+\u001b[49m\u001b[43md\u001b[49m\n",
            "\u001b[31mTypeError\u001b[39m: can only concatenate str (not \"float\") to str"
          ]
        }
      ],
      "source": [
        "c+d"
      ]
    },
    {
      "cell_type": "code",
      "execution_count": 11,
      "metadata": {},
      "outputs": [],
      "source": [
        "numbers = [a, b, c, d]"
      ]
    },
    {
      "cell_type": "code",
      "execution_count": 12,
      "metadata": {},
      "outputs": [],
      "source": [
        "staff = lecturers + tutors"
      ]
    },
    {
      "cell_type": "code",
      "execution_count": 13,
      "metadata": {},
      "outputs": [
        {
          "data": {
            "text/plain": [
              "['Jesse', 'Nicole', 'Michelle', 'Finn']"
            ]
          },
          "execution_count": 13,
          "metadata": {},
          "output_type": "execute_result"
        }
      ],
      "source": [
        "staff"
      ]
    },
    {
      "cell_type": "code",
      "execution_count": 14,
      "metadata": {},
      "outputs": [
        {
          "data": {
            "text/plain": [
              "[2,\n",
              " 4.01,\n",
              " '6.888',\n",
              " 18.93,\n",
              " 2,\n",
              " 4.01,\n",
              " '6.888',\n",
              " 18.93,\n",
              " 2,\n",
              " 4.01,\n",
              " '6.888',\n",
              " 18.93,\n",
              " 2,\n",
              " 4.01,\n",
              " '6.888',\n",
              " 18.93]"
            ]
          },
          "execution_count": 14,
          "metadata": {},
          "output_type": "execute_result"
        }
      ],
      "source": [
        "4*numbers"
      ]
    },
    {
      "cell_type": "markdown",
      "metadata": {},
      "source": [
        "Opps, there are some errors! This is because, we cannot add a string to a number, nor can we multiply each element in a list by a number. To solve this error, we must convert the string to a floating point number. Whilst the latter error is one of the most basic reasont that motivates us to use arrays."
      ]
    },
    {
      "cell_type": "code",
      "execution_count": 15,
      "metadata": {},
      "outputs": [],
      "source": [
        "c_num = float(c) # convert c to a floating point number\n",
        "numbers_array = np.array([a, b, c_num, d]) # convert list to an array, ensuring all objects are numbers"
      ]
    },
    {
      "cell_type": "markdown",
      "metadata": {},
      "source": [
        "Now let's try the errors again"
      ]
    },
    {
      "cell_type": "code",
      "execution_count": 16,
      "metadata": {},
      "outputs": [
        {
          "data": {
            "text/plain": [
              "25.817999999999998"
            ]
          },
          "execution_count": 16,
          "metadata": {},
          "output_type": "execute_result"
        }
      ],
      "source": [
        "c_num+d"
      ]
    },
    {
      "cell_type": "code",
      "execution_count": 17,
      "metadata": {},
      "outputs": [
        {
          "data": {
            "text/plain": [
              "array([ 8.   , 16.04 , 27.552, 75.72 ])"
            ]
          },
          "execution_count": 17,
          "metadata": {},
          "output_type": "execute_result"
        }
      ],
      "source": [
        "4*numbers_array"
      ]
    },
    {
      "cell_type": "markdown",
      "metadata": {},
      "source": [
        "Error solved!"
      ]
    },
    {
      "cell_type": "markdown",
      "metadata": {},
      "source": [
        "## Arrays\n",
        "Now that we can see some benefit in using arrays, let's try to manipulate them."
      ]
    },
    {
      "cell_type": "code",
      "execution_count": null,
      "metadata": {},
      "outputs": [],
      "source": [
        "# Define some arbitrary arrays\n",
        "arr1 = np.array([2, 4, 6, 8, 10, 12]) # list of even numbers\n",
        "arr2 = np.arange(1, 13, 2) # creates an array of odd numbers from 1 to 11\n",
        "arr3 = np.array([[1,2,3],\n",
        "                 [4,5,6],\n",
        "                 [7,8,9]]) # 3x3 array\n",
        "arr4 = np.array([[2,4,9],\n",
        "                 [7,1,8],\n",
        "                 [5,3,6]]) # 3x3 array"
      ]
    },
    {
      "cell_type": "markdown",
      "metadata": {},
      "source": [
        "Again, let's play with these arrays and predict what it will do"
      ]
    },
    {
      "cell_type": "code",
      "execution_count": null,
      "metadata": {},
      "outputs": [],
      "source": [
        "arr3[2,-2] # 3rd to 3rd last value in arr3"
      ]
    },
    {
      "cell_type": "code",
      "execution_count": null,
      "metadata": {},
      "outputs": [],
      "source": [
        "arr2[:-4] # first to 5th last value in arr2"
      ]
    },
    {
      "cell_type": "code",
      "execution_count": null,
      "metadata": {},
      "outputs": [],
      "source": [
        "arr3[0] # first list in arr3"
      ]
    },
    {
      "cell_type": "code",
      "execution_count": null,
      "metadata": {},
      "outputs": [],
      "source": [
        "arr4[:,1] # 2nd column of arr4"
      ]
    },
    {
      "cell_type": "code",
      "execution_count": null,
      "metadata": {},
      "outputs": [],
      "source": [
        "arr4[2,:] # 3rd row of arr4"
      ]
    },
    {
      "cell_type": "code",
      "execution_count": null,
      "metadata": {},
      "outputs": [],
      "source": [
        "np.sum(arr1) # sum of all values in arr1"
      ]
    },
    {
      "cell_type": "code",
      "execution_count": null,
      "metadata": {},
      "outputs": [],
      "source": [
        "np.argmax(arr2) # index of the maximum value in arr2"
      ]
    },
    {
      "cell_type": "code",
      "execution_count": null,
      "metadata": {},
      "outputs": [],
      "source": [
        "len(arr2) # number of elements in arr2"
      ]
    },
    {
      "cell_type": "code",
      "execution_count": null,
      "metadata": {},
      "outputs": [],
      "source": [
        "np.size(arr3) # total amount of memory allocated to store arr3"
      ]
    },
    {
      "cell_type": "code",
      "execution_count": null,
      "metadata": {},
      "outputs": [],
      "source": [
        "np.shape(arr4) # dimensions of arr3"
      ]
    },
    {
      "cell_type": "code",
      "execution_count": null,
      "metadata": {},
      "outputs": [],
      "source": [
        "np.concatenate((arr3,arr4)) # combined list of values from arr3 and arr4"
      ]
    },
    {
      "cell_type": "code",
      "execution_count": null,
      "metadata": {},
      "outputs": [],
      "source": [
        "arr3 * arr4 # elementwise multiplication of values in arr3 and arr4"
      ]
    },
    {
      "cell_type": "code",
      "execution_count": null,
      "metadata": {},
      "outputs": [],
      "source": [
        "np.matmul(arr3, arr4) # matrix multiplication between arr3 and arr4"
      ]
    },
    {
      "cell_type": "markdown",
      "metadata": {},
      "source": [
        "### **Exercise 3:**\n",
        "Using the defined arrays find the following:\n",
        "1. Largest number in arr5\n",
        "2. Index/indices of the smallest number in arr6\n",
        "3. 5th to 27th values in arr5\n",
        "4. 13th to 3rd last values in arr6\n",
        "5. Elementwise sum of the 1st to 15th values of arr5 and arr6\n",
        "6. Size of arr7\n",
        "7. Matrix multiplication of arr7 and arr8\n",
        "8. Combined list of values from arr7 and arr8\n",
        "9. Elementwise multiplication of arr7 and arr8, as well as the value on the 2nd row and 3rd column from the resulting array."
      ]
    },
    {
      "cell_type": "code",
      "execution_count": null,
      "metadata": {},
      "outputs": [],
      "source": [
        "# Define arrays\n",
        "arr5 = np.array([32, 69, 112, 64, 115, 89, 57, 97, 176, 89, 74, 76, 141, 102, 113, 105, 74, 32, 81, 186, 89, 150, 161, 119, 115, 60, 110, 140, 96, 73, 142, 171, 153, 99, 61, 158, 137, 73, 163, 68])\n",
        "arr6 = np.array([22, 12, 21, 23, 16, 23, 13, 13, 20, 11, 18, 14, 23, 11, 15, 11, 22, 13, 15, 11, 21, 16, 13, 20, 15])\n",
        "arr7 = np.array([[8, 5, 10, 7], [3, 8, 3, 4], [6, 2, 7, 7], [5, 5, 2, 6]])\n",
        "arr8 = np.array([[8, 1, 3, 9], [9, 1, 10, 10], [10, 9, 6, 2], [8, 3, 3, 5]])"
      ]
    },
    {
      "cell_type": "code",
      "execution_count": null,
      "metadata": {},
      "outputs": [],
      "source": []
    }
  ],
  "metadata": {
    "colab": {
      "provenance": []
    },
    "kernelspec": {
      "display_name": "ngistenv",
      "language": "python",
      "name": "python3"
    },
    "language_info": {
      "codemirror_mode": {
        "name": "ipython",
        "version": 3
      },
      "file_extension": ".py",
      "mimetype": "text/x-python",
      "name": "python",
      "nbconvert_exporter": "python",
      "pygments_lexer": "ipython3",
      "version": "3.11.13"
    }
  },
  "nbformat": 4,
  "nbformat_minor": 0
}
