{
  "cells": [
    {
      "cell_type": "markdown",
      "metadata": {},
      "source": [
        "# Spotted Python Week 3 Tutorial\n",
        "In this script, we aim to practice the following skills:\n",
        "- Manipulating arrays\n",
        "- Creating functions\n",
        "- Using logical statements\n",
        "- Simple demonstration of graphing"
      ]
    },
    {
      "cell_type": "code",
      "execution_count": 1,
      "metadata": {
        "id": "Idnq3_kHqzu1"
      },
      "outputs": [],
      "source": [
        "# Import libraries\n",
        "from math import log10, floor\n",
        "import numpy as np\n",
        "import matplotlib.pyplot as plt\n",
        "import matplotlib.colors as colours\n",
        "import cmasher as cm"
      ]
    },
    {
      "cell_type": "markdown",
      "metadata": {},
      "source": [
        "## Arrays\n",
        "Now that we can see some benefit in using arrays, let's try to manipulate them."
      ]
    },
    {
      "cell_type": "code",
      "execution_count": 2,
      "metadata": {},
      "outputs": [],
      "source": [
        "# Define some arbitrary arrays\n",
        "arr1 = np.array([2, 4, 6, 8, 10, 12]) # list of even numbers\n",
        "arr2 = np.arange(1, 13, 2) # creates an array of odd numbers from 1 to 11\n",
        "arr3 = np.array([[1,2,3],\n",
        "                 [4,5,6],\n",
        "                 [7,8,9]]) # 3x3 array\n",
        "arr4 = np.array([[2,4,9],\n",
        "                 [7,1,8],\n",
        "                 [5,3,6]]) # 3x3 array"
      ]
    },
    {
      "cell_type": "markdown",
      "metadata": {},
      "source": [
        "Again, let's play with these arrays and predict what it will do"
      ]
    },
    {
      "cell_type": "code",
      "execution_count": null,
      "metadata": {},
      "outputs": [],
      "source": [
        "arr3[2,-2] # 3rd to 3rd last value in arr3"
      ]
    },
    {
      "cell_type": "code",
      "execution_count": null,
      "metadata": {},
      "outputs": [],
      "source": [
        "arr2[:-4] # first to 5th last value in arr2"
      ]
    },
    {
      "cell_type": "code",
      "execution_count": null,
      "metadata": {},
      "outputs": [],
      "source": [
        "arr3[0] # first list in arr3"
      ]
    },
    {
      "cell_type": "code",
      "execution_count": null,
      "metadata": {},
      "outputs": [],
      "source": [
        "arr4[:,1] # 2nd column of arr4"
      ]
    },
    {
      "cell_type": "code",
      "execution_count": null,
      "metadata": {},
      "outputs": [],
      "source": [
        "arr4[2,:] # 3rd row of arr4"
      ]
    },
    {
      "cell_type": "code",
      "execution_count": null,
      "metadata": {},
      "outputs": [],
      "source": [
        "np.sum(arr1) # sum of all values in arr1"
      ]
    },
    {
      "cell_type": "code",
      "execution_count": null,
      "metadata": {},
      "outputs": [],
      "source": [
        "np.argmax(arr2) # index of the maximum value in arr2"
      ]
    },
    {
      "cell_type": "code",
      "execution_count": null,
      "metadata": {},
      "outputs": [],
      "source": [
        "len(arr2) # number of elements in arr2"
      ]
    },
    {
      "cell_type": "code",
      "execution_count": null,
      "metadata": {},
      "outputs": [],
      "source": [
        "np.size(arr3) # total amount of memory allocated to store arr3"
      ]
    },
    {
      "cell_type": "code",
      "execution_count": null,
      "metadata": {},
      "outputs": [],
      "source": [
        "np.shape(arr4) # dimensions of arr3"
      ]
    },
    {
      "cell_type": "code",
      "execution_count": null,
      "metadata": {},
      "outputs": [],
      "source": [
        "np.concatenate((arr3,arr4)) # combined list of values from arr3 and arr4"
      ]
    },
    {
      "cell_type": "code",
      "execution_count": null,
      "metadata": {},
      "outputs": [],
      "source": [
        "arr3 * arr4 # elementwise multiplication of values in arr3 and arr4"
      ]
    },
    {
      "cell_type": "code",
      "execution_count": null,
      "metadata": {},
      "outputs": [],
      "source": [
        "np.matmul(arr3, arr4) # matrix multiplication between arr3 and arr4"
      ]
    },
    {
      "cell_type": "markdown",
      "metadata": {},
      "source": [
        "### **Exercise 1:**\n",
        "Using the defined arrays find the following:\n",
        "1. Largest number in arr5\n",
        "2. Index/indices of the smallest number in arr6\n",
        "3. 5th to 27th values in arr5\n",
        "4. 13th to 3rd last values in arr6\n",
        "5. Elementwise sum of the 1st to 15th values of arr5 and arr6\n",
        "6. Size of arr7\n",
        "7. Matrix multiplication of arr7 and arr8\n",
        "8. Combined list of values from arr7 and arr8\n",
        "9. Elementwise multiplication of arr7 and arr8, as well as the value on the 2nd row and 3rd column from the resulting array."
      ]
    },
    {
      "cell_type": "code",
      "execution_count": null,
      "metadata": {},
      "outputs": [],
      "source": [
        "# Define arrays\n",
        "arr5 = np.array([32, 69, 112, 64, 115, 89, 57, 97, 176, 89, 74, 76, 141, 102, 113, 105, 74, 32, 81, 186, 89, 150, 161, 119, 115, 60, 110, 140, 96, 73, 142, 171, 153, 99, 61, 158, 137, 73, 163, 68])\n",
        "arr6 = np.array([22, 12, 21, 23, 16, 23, 13, 13, 20, 11, 18, 14, 23, 11, 15, 11, 22, 13, 15, 11, 21, 16, 13, 20, 15])\n",
        "arr7 = np.array([[8, 5, 10, 7], [3, 8, 3, 4], [6, 2, 7, 7], [5, 5, 2, 6]])\n",
        "arr8 = np.array([[8, 1, 3, 9], [9, 1, 10, 10], [10, 9, 6, 2], [8, 3, 3, 5]])"
      ]
    },
    {
      "cell_type": "code",
      "execution_count": null,
      "metadata": {},
      "outputs": [],
      "source": []
    },
    {
      "cell_type": "markdown",
      "metadata": {},
      "source": [
        "## Functions\n",
        "### **Example 1:**\n",
        "Python makes rounding to significant figures weirdly hard, so let's write a function to round numbers to a given number of significant figures. But before coding up the function, let's figure out the logic.\n",
        "\n",
        "Assuming we want to round 123456 to 3 significant figures. This is equivalent to rounding the number to the -3rd digit (counting from the decimal place). Hence it is the easiest to first find the order of magnitude of the number:\n",
        "```python\n",
        "int(floor(log10(abs(123456)))) # floor rounds to the lower integer\n",
        "```\n",
        "\n",
        "Which can be alternatively interpreted as the number of digits before the decimal place to round the number to 1 significant figure. Hence to round the number to the correct number of significant figures, we can add the desired (precision - 1) to the **negative** of the order of magnitude.\n",
        "```python\n",
        "sf_to_dp = -int(floor(log10(abs(123456)))) + precision - 1\n",
        "round(123456, sf_to_dp)\n",
        "```"
      ]
    },
    {
      "cell_type": "code",
      "execution_count": null,
      "metadata": {},
      "outputs": [],
      "source": [
        "# Define the function\n",
        "def sigfig(x, precision):\n",
        "    x = float(x) # ensure the number is a float\n",
        "    precision = int(precision)  # ensure the precision is an integer\n",
        "    magnitude = int(floor(log10(abs(x))))\n",
        "    sf_to_dp = -magnitude + precision - 1\n",
        "    return round(x, sf_to_dp)"
      ]
    },
    {
      "cell_type": "code",
      "execution_count": null,
      "metadata": {},
      "outputs": [],
      "source": [
        "# Testing the function\n",
        "precision = 3\n",
        "sf_to_dp = -int(floor(log10(abs(123456)))) + precision - 1\n",
        "round(123456, sf_to_dp)"
      ]
    },
    {
      "cell_type": "markdown",
      "metadata": {},
      "source": [
        "Opps this is not perfect code, but it is strangely hard to do in python.\n",
        "\n",
        "### **Example 2:**\n",
        "Drawing from our example from last week, let's try to generate a function to calculate the escape velocity."
      ]
    },
    {
      "cell_type": "code",
      "execution_count": null,
      "metadata": {},
      "outputs": [],
      "source": [
        "# Defining the function\n",
        "def escape(M,R): # M and R are the parameteres required\n",
        "    G = 6.67*10**-11 # gravitational constant\n",
        "    v_esc = ((2*G*M)/R)**0.5 # calculates the escape velocity, m/s\n",
        "    return v_esc"
      ]
    },
    {
      "cell_type": "code",
      "execution_count": null,
      "metadata": {},
      "outputs": [],
      "source": [
        "# Input parameters\n",
        "M_earth = 5.97e24 # mass of earth, kg\n",
        "R_earth = 6.371e6 # radius of earth, m\n",
        "\n",
        "# Finding the escape velocity\n",
        "v_esc_sun = escape(M_earth,R_earth)\n",
        "print(f'The escape velocity for the Sun is {sigfig(v_esc_sun,3)} m/s') # prints the value to 3sf"
      ]
    },
    {
      "cell_type": "markdown",
      "metadata": {},
      "source": [
        "### **Exercise 2:**\n",
        "Write a function for calculating gravitational force between two objects. Then use your function to calculate the gravitational acceleration between the Earth and the Sun. Recall, $$F=\\frac{Gm_1m_2}{r^2},$$ where, $m_1$, $m_2$ are the masses of the 2 objects, and $r$ is the distance between the two objects. The distance between the Earth and the Sun is $150.67 \\text{ Gm}$."
      ]
    },
    {
      "cell_type": "code",
      "execution_count": null,
      "metadata": {},
      "outputs": [],
      "source": []
    },
    {
      "cell_type": "markdown",
      "metadata": {},
      "source": [
        "After learning more things we can do in python, we can then make more complex functions.\n",
        "\n",
        "## Logical Statements\n",
        "Sometimes to isolate particular values we want within a long array, we can give ask python logical statements. This allows us to further treat values differently depending on whether they satisfy a condition, using if/else statements.\n",
        "### **Example 3:**\n",
        "Determine the Harvard spectral classification for a main-sequence star with an effective temperature of 7800K. Recalling the classifications are as below:\n",
        "- $\\text{O: }T_{eff}\\geq33000 \\ K$\n",
        "- $\\text{B: }10000\\leq T_{eff}<33000 \\ K$\n",
        "- $\\text{A: }7300\\leq T_{eff}<10000 \\ K$\n",
        "- $\\text{F: }6000\\leq T_{eff}<7300 \\ K$\n",
        "- $\\text{G: }5300\\leq T_{eff}<6000 \\ K$\n",
        "- $\\text{K: }3900\\leq T_{eff}<5300 \\ K$\n",
        "- $\\text{M: }2300\\leq T_{eff}<3900 \\ K$"
      ]
    },
    {
      "cell_type": "code",
      "execution_count": null,
      "metadata": {},
      "outputs": [],
      "source": [
        "# we can request an input\n",
        "temp = float(input('what is the temperature of the main-sequence star? '))\n",
        "\n",
        "# use logical statements to determine the classification of the star\n",
        "if temp >= 33000:\n",
        "    print('O')\n",
        "elif 10000 <= temp < 33000:\n",
        "    print('B')\n",
        "elif 7300 <= temp < 10000:\n",
        "    print('A')\n",
        "elif 6000 <= temp < 7300:\n",
        "    print('F')\n",
        "elif 5300 <= temp < 6000:\n",
        "    print('G')\n",
        "elif 3900 <= temp < 5300:\n",
        "    print('K')\n",
        "elif 2300 <= temp < 3900:\n",
        "    print('M')\n",
        "else:\n",
        "    print('not a valid temperature')"
      ]
    },
    {
      "cell_type": "code",
      "execution_count": null,
      "metadata": {},
      "outputs": [],
      "source": [
        "# We can easily make this into a function\n",
        "def classify_star(temp):\n",
        "    if temp >= 33000:\n",
        "        classify = 'O'\n",
        "    elif 10000 <= temp < 33000:\n",
        "        classify = 'B'\n",
        "    elif 7300 <= temp < 10000:\n",
        "        classify = 'A'\n",
        "    elif 6000 <= temp < 7300:\n",
        "        classify = 'F'\n",
        "    elif 5300 <= temp < 6000:\n",
        "        classify = 'G'\n",
        "    elif 3900 <= temp < 5300:\n",
        "        classify = 'K'\n",
        "    elif 2300 <= temp < 3900:\n",
        "        classify = 'M'\n",
        "    return classify"
      ]
    },
    {
      "cell_type": "markdown",
      "metadata": {},
      "source": [
        "### **Exercise 3:**\n",
        "Determine the whether a star of mass $M=3.67\\times10^{29} \\text{ kg}$ is a low-mass, intermediate-mass or massive star. Given:\n",
        "- $M_\\odot=1.989\\times10^{30}$\n",
        "- $\\text{Low mass stars: }M/M_{\\odot}<=0.08$\n",
        "- $\\text{Intermediate mass stars: } 0.08\\leq M/M_{\\odot}\\lesssim2$\n",
        "- $\\text{Massive stars: } 2\\lesssim M/M_{\\odot}\\lesssim10$"
      ]
    },
    {
      "cell_type": "code",
      "execution_count": null,
      "metadata": {},
      "outputs": [],
      "source": []
    },
    {
      "cell_type": "markdown",
      "metadata": {},
      "source": [
        "## Simple Graphing\n",
        "We will import the stellar data and colour the HR diagram in different ways"
      ]
    },
    {
      "cell_type": "code",
      "execution_count": null,
      "metadata": {},
      "outputs": [],
      "source": [
        "# import the csv file\n",
        "# here we put the name of the file as a string\n",
        "# the delimiter is what separate the different data\n",
        "# skiprow tells the function how many rows to skip from the start of the file\n",
        "# dtype sets the type of object being imported\n",
        "stellar_data = np.loadtxt('stellar_data.csv', delimiter= ',', skiprows=1, dtype=object)\n",
        "\n",
        "# store each column as a new variable\n",
        "star_T = stellar_data[:,0].astype(float) # to avoid using temp again, stellar_T is used\n",
        "star_L = stellar_data[:,1].astype(float) # luminosity in solar luminosity\n",
        "star_R = stellar_data[:,2].astype(float) # radius in solar radii\n",
        "star_Mv = stellar_data[:,3].astype(float) # magnitude\n",
        "star_type = stellar_data[:,4] # type of star\n",
        "star_colour = stellar_data[:,5] # colour\n",
        "star_class = stellar_data[:,6] # spectral classification"
      ]
    },
    {
      "cell_type": "code",
      "execution_count": null,
      "metadata": {},
      "outputs": [],
      "source": [
        "# Create a colourmap\n",
        "cmap = colours.ListedColormap(['#ff6347', '#fe8951', '#ffa93e', '#ffc728', '#ffe410', '#90b2e8', '#778ce5', '#5d66df', '#403ed7', '#0000cd'])\n",
        "cmap_2 = cm.tropical\n",
        "\n",
        "plt.scatter(np.log(star_T), star_Mv, c=star_T, marker='*', s=50, cmap=cmap_2)\n",
        "\n",
        "# Since the HR diagram has inverted scales\n",
        "plt.gca().invert_xaxis()\n",
        "plt.gca().invert_yaxis()\n",
        "\n",
        "# Axes\n",
        "plt.title('Hertzsprung-Russel Diagram') # Title of graph\n",
        "plt.xlabel('$\\ln T$, $K$') # x-axis label\n",
        "plt.ylabel('$M_V$, $mag$') # y-axis label"
      ]
    },
    {
      "cell_type": "markdown",
      "metadata": {},
      "source": [
        "What if we want to colourcode according to the type of star?"
      ]
    },
    {
      "cell_type": "code",
      "execution_count": null,
      "metadata": {},
      "outputs": [],
      "source": [
        "# Let's first make new arrays depending on the type of star\n",
        "\n",
        "# Brown Dwarf, bd\n",
        "bd_T = star_T[np.where(star_type == 'Brown Dwarf')]\n",
        "bd_Mv = star_Mv[np.where(star_type == 'Brown Dwarf')]\n",
        "\n",
        "# Red Dwarf, rd\n",
        "rd_T = star_T[np.where(star_type == 'Red Dwarf')]\n",
        "rd_Mv = star_Mv[np.where(star_type == 'Red Dwarf')]\n",
        "\n",
        "# White Dwarf\n",
        "wd_T = star_T[np.where(star_type == 'White Dwarf')]\n",
        "wd_Mv = star_Mv[np.where(star_type == 'White Dwarf')]\n",
        "\n",
        "# Main Sequence\n",
        "ms_T = star_T[np.where(star_type == 'Main Sequence')]\n",
        "ms_Mv = star_Mv[np.where(star_type == 'Main Sequence')]\n",
        "\n",
        "# Supergiant\n",
        "sg_T = star_T[np.where(star_type == 'Supergiant')]\n",
        "sg_Mv = star_Mv[np.where(star_type == 'Supergiant')]\n",
        "\n",
        "# Hypergiant\n",
        "hg_T = star_T[np.where(star_type == 'Hypergiant')]\n",
        "hg_Mv = star_Mv[np.where(star_type == 'Hypergiant')]"
      ]
    },
    {
      "cell_type": "code",
      "execution_count": null,
      "metadata": {},
      "outputs": [],
      "source": [
        "# plot the stars on a diagram\n",
        "# I prefer logging the values themselves\n",
        "plt.plot(np.log(bd_T), bd_Mv, '*', markersize=6, color = 'brown', label = 'Brown Dwarf')\n",
        "plt.plot(np.log(rd_T), rd_Mv, '*', markersize=6, color = 'violet', label = 'Red Dwarf')\n",
        "plt.plot(np.log(wd_T), wd_Mv, '*', markersize=8, color = 'gold', label = 'White Dwarf')\n",
        "plt.plot(np.log(ms_T), ms_Mv, '*', markersize=8, color = 'forestgreen', label = 'Main Sequence')\n",
        "plt.plot(np.log(sg_T), sg_Mv, '*', markersize=10, color = 'deeppink', label = 'Supergiant')\n",
        "plt.plot(np.log(hg_T), hg_Mv, '*', markersize=10, color = 'royalblue', label = 'Hypergiant')\n",
        "\n",
        "# Since the HR diagram has inverted scales\n",
        "plt.gca().invert_xaxis()\n",
        "plt.gca().invert_yaxis()\n",
        "\n",
        "# Axes\n",
        "plt.title('Hertzsprung-Russel Diagram') # Title of graph\n",
        "plt.xlabel('$\\ln T$, $K$') # x-axis label\n",
        "plt.ylabel('$M_V$, $mag$') # y-axis label\n",
        "\n",
        "# Legend\n",
        "plt.tight_layout()\n",
        "plt.legend(bbox_to_anchor=(1, 0), loc='lower left') # displays and sets the location"
      ]
    }
  ],
  "metadata": {
    "colab": {
      "provenance": []
    },
    "kernelspec": {
      "display_name": "ngistenv",
      "language": "python",
      "name": "python3"
    },
    "language_info": {
      "codemirror_mode": {
        "name": "ipython",
        "version": 3
      },
      "file_extension": ".py",
      "mimetype": "text/x-python",
      "name": "python",
      "nbconvert_exporter": "python",
      "pygments_lexer": "ipython3",
      "version": "3.11.13"
    }
  },
  "nbformat": 4,
  "nbformat_minor": 0
}
