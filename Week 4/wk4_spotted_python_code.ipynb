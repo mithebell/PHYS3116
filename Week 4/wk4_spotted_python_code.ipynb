{
  "cells": [
    {
      "cell_type": "markdown",
      "metadata": {},
      "source": [
        "# Spotted Python Week 4 Tutorial\n",
        "In this script, we aim to practice the following skills:\n",
        "- Using for loops\n",
        "- Changing colourbars\n",
        "- Creating subplots\n",
        "- Table manipulation"
      ]
    },
    {
      "cell_type": "code",
      "execution_count": null,
      "metadata": {
        "id": "Idnq3_kHqzu1"
      },
      "outputs": [],
      "source": [
        "# import libraries\n",
        "from math import log10, floor\n",
        "import numpy as np\n",
        "import matplotlib.pyplot as plt\n",
        "import matplotlib.colors as colours\n",
        "from astropy.io import ascii, fits\n",
        "from astropy.table import Table, join\n",
        "from scipy.odr import *"
      ]
    },
    {
      "cell_type": "code",
      "execution_count": null,
      "metadata": {},
      "outputs": [],
      "source": [
        "# define functions\n",
        "# later as we grow this list of functions, we may consider creating a .py file\n",
        "def sigfig(x, precision):\n",
        "    x = float(x) # ensure the number is a float\n",
        "    precision = int(precision)  # ensure the precision is an integer\n",
        "    magnitude = int(floor(log10(abs(x))))\n",
        "    sf_to_dp = -magnitude + precision - 1\n",
        "    return round(x, sf_to_dp)\n",
        "\n",
        "def classify_star(temp):\n",
        "    if temp >= 33000:\n",
        "        classify = 'O'\n",
        "    elif 10000 <= temp < 33000:\n",
        "        classify = 'B'\n",
        "    elif 7300 <= temp < 10000:\n",
        "        classify = 'A'\n",
        "    elif 6000 <= temp < 7300:\n",
        "        classify = 'F'\n",
        "    elif 5300 <= temp < 6000:\n",
        "        classify = 'G'\n",
        "    elif 3900 <= temp < 5300:\n",
        "        classify = 'K'\n",
        "    elif 2300 <= temp < 3900:\n",
        "        classify = 'M'\n",
        "    return classify"
      ]
    },
    {
      "cell_type": "markdown",
      "metadata": {},
      "source": [
        "## Loops\n",
        "In most cases in astronomical research, we are working with large amounts of data. If the same action is required to be completed to multiple values in an array, then for loops can help to re-run a piece of code while changing an input variable. While loops are also available if you would like to repeat code until a certain condition is met.\n",
        "\n",
        "### **Example 1:**\n",
        "Write a function that calculates the luminosity for the Supergiants listed in *stellar_data.csv* using their associated absolute magnitudes. Confirm that the calculated luminosities are correct using the given \"L\" column. Recall: \n",
        "- $\\frac{L_\\star}{L_\\odot}=10^{0.4(M_{V,\\odot}-M_{V,\\star})}$\n",
        "- $L_\\odot=3.846\\times10^{26}\\ W$ is the luminosity of the sun\n",
        "- $M_{V,\\odot}=4.83$ is the absolute magnitude of the sun in the visual band.\n",
        "\n",
        "Note that the radius and luminosity in the file are given in solar units."
      ]
    },
    {
      "cell_type": "code",
      "execution_count": null,
      "metadata": {},
      "outputs": [],
      "source": [
        "# import the csv file\n",
        "# here we put the name of the file as a string\n",
        "# the delimiter is what separate the different data\n",
        "# skiprow tells the function how many rows to skip from the start of the file\n",
        "# dtype sets the type of object being imported\n",
        "stellar_data = np.loadtxt('stellar_data.csv', delimiter= ',', skiprows=1, dtype=str)\n",
        "\n",
        "# store each column as a new variable\n",
        "star_T = stellar_data[:,0].astype(float) # to avoid using temp again, stellar_T is used\n",
        "star_L = stellar_data[:,1].astype(float) # luminosity in solar luminosity\n",
        "star_R = stellar_data[:,2].astype(float) # radius in solar radii\n",
        "star_Mv = stellar_data[:,3].astype(float) # magnitude\n",
        "star_type = stellar_data[:,4] # type of star\n",
        "star_colour = stellar_data[:,5] # colour\n",
        "star_class = stellar_data[:,6] # spectral classification"
      ]
    },
    {
      "cell_type": "code",
      "execution_count": null,
      "metadata": {},
      "outputs": [],
      "source": [
        "# Create an zero array that has the same length as the number of supergiants\n",
        "super_num = np.where(star_type == 'Supergiant') # find the indices for the supergiants\n",
        "super_L = np.zeros(len(super_num[0])) # creates an array of zeros\n",
        "star_L_rounded = np.zeros(len(super_num[0])) # creates an array of zeros\n",
        "\n",
        "# Calculate the luminoisty for supergiants\n",
        "sb_constant = 5.67e-8 # stefan-boltzmann constant\n",
        "M_v_sun = 4.83 # absolute magnitude of the Sun\n",
        "\n",
        "for i in range(len(super_num[0])): # index from 0 to number of supergiants\n",
        "    super_L[i] = sigfig(10**(0.4*(M_v_sun-star_Mv[super_num[0][i]])),5) # L in solar units\n",
        "    # in here [super_num[0][i]] returns the indices of the supergiants\n",
        "    \n",
        "    star_L_rounded[i] = sigfig(star_L[super_num[0][i]],5)\n",
        "\n",
        "# test if values match to 5 significant figures\n",
        "print(super_L == star_L_rounded)"
      ]
    },
    {
      "cell_type": "markdown",
      "metadata": {},
      "source": [
        "### **Exercise 1:**\n",
        "Write a function that outputs a list of Harvard spectral classifications for the main sequence stars listed in *stellar_data.csv* using their associated effective temperatures. Confirm that the spectral class' are correct using the given \"Spectral_Class\" column."
      ]
    },
    {
      "cell_type": "code",
      "execution_count": null,
      "metadata": {},
      "outputs": [],
      "source": []
    },
    {
      "cell_type": "markdown",
      "metadata": {},
      "source": [
        "As we can see, the temperatures used for classifying stars are not absolute."
      ]
    },
    {
      "cell_type": "markdown",
      "metadata": {},
      "source": [
        "## Globular Clusters in the Milky Way\n",
        "To assist you with your assignment, we will familarise yourselves and play with the Harris data set.\n",
        "### **Example 2:**\n",
        "Select 2 galactic distance components and plot them against each other (e.g. X against Y), and use a colour bar to show changes in metallicity."
      ]
    },
    {
      "cell_type": "code",
      "execution_count": null,
      "metadata": {},
      "outputs": [],
      "source": [
        "from astropy.io import ascii\n",
        "\n",
        "# Import combined harris data\n",
        "harris_data = ascii.read(\"Harris_Combined.csv\")\n",
        "\n",
        "# define variable for relevant columns\n",
        "# this step is not essential, but is written to show clarity\n",
        "gc_id = harris_data['ID'] # names of GCs\n",
        "gc_x = harris_data['X'] # galactic distance component pointing towards galactic centre\n",
        "gc_y = harris_data['Y'] # galactic distance component pointing in direction of galactic rotation\n",
        "gc_z = harris_data['Z'] # galactic distance component pointing towards north galactic pole\n",
        "gc_fe = harris_data['[Fe/H]'] # Metallicity"
      ]
    },
    {
      "cell_type": "code",
      "execution_count": null,
      "metadata": {},
      "outputs": [],
      "source": [
        "fig, axes = plt.subplots(1, 3, figsize=(20, 5))\n",
        "\n",
        "# X versus Y\n",
        "xy = axes[0].scatter(gc_x, gc_y, c=gc_fe, marker='*', s=40, cmap='viridis') # plot components\n",
        "axes[0].set_xlabel('$X$, $kpc$') # x-axis label\n",
        "axes[0].set_ylabel('$Y$, $kpc$') # y-axis label\n",
        "fig.colorbar(xy, ax=axes[0]) # display colourbar\n",
        "\n",
        "# X versus Z\n",
        "xz = axes[1].scatter(gc_x, gc_z, c=gc_fe, marker='o', s=40, cmap='plasma')\n",
        "axes[1].set_xlabel('$X$, $kpc$')\n",
        "axes[1].set_ylabel('$Z$, $kpc$')\n",
        "fig.colorbar(xz, ax=axes[1])\n",
        "\n",
        "# Y versus Z\n",
        "yz = axes[2].scatter(gc_y, gc_z, c=gc_fe, marker='x', s=40, cmap='cool')\n",
        "axes[2].set_xlabel('$Y$, $kpc$')\n",
        "axes[2].set_ylabel('$Z$, $kpc$')\n",
        "fig.colorbar(yz, ax=axes[2])"
      ]
    },
    {
      "cell_type": "markdown",
      "metadata": {},
      "source": [
        "## ($V/\\sigma$, $\\varepsilon$) diagram\n",
        "### **Exercise 2:**\n",
        "Given in Cappellari, 2007, $$\\left(V/\\sigma\\right)_e\\approx\\sqrt{\\frac{(0.09+0.1\\varepsilon)\\varepsilon}{1-\\varepsilon}}$$\n",
        "This is the theoretical line for edge on galaxies. Using the provided fits file to create figure 2 in van de Sande, 2017."
      ]
    },
    {
      "cell_type": "code",
      "execution_count": null,
      "metadata": {},
      "outputs": [],
      "source": []
    }
  ],
  "metadata": {
    "colab": {
      "provenance": []
    },
    "kernelspec": {
      "display_name": "ngistenv",
      "language": "python",
      "name": "python3"
    },
    "language_info": {
      "codemirror_mode": {
        "name": "ipython",
        "version": 3
      },
      "file_extension": ".py",
      "mimetype": "text/x-python",
      "name": "python",
      "nbconvert_exporter": "python",
      "pygments_lexer": "ipython3",
      "version": "3.11.13"
    }
  },
  "nbformat": 4,
  "nbformat_minor": 0
}
