{
  "cells": [
    {
      "cell_type": "markdown",
      "metadata": {},
      "source": [
        "# Spotted Python Week 5 Tutorial\n",
        "In this script, we aim to practice the following skills:\n",
        "- Scaling Relations\n",
        "- Fitting a linear curve\n",
        "- BPT diagrams"
      ]
    },
    {
      "cell_type": "code",
      "execution_count": null,
      "metadata": {
        "id": "Idnq3_kHqzu1"
      },
      "outputs": [],
      "source": [
        "# import libraries\n",
        "from math import log10, floor\n",
        "import numpy as np\n",
        "import matplotlib.pyplot as plt\n",
        "import matplotlib.colors as colours\n",
        "from astropy.io import ascii\n",
        "from astropy.table import Table, join\n",
        "from scipy.odr import *"
      ]
    },
    {
      "cell_type": "markdown",
      "metadata": {},
      "source": [
        "## Scaling Relations\n",
        "One of the scaling relation explored by the SAMI survey is, $$S_{0.5}=\\sqrt{0.5V_{rot}^2+\\sigma^2},$$ where $V_{rot}$ is the rotational velocity, and $\\sigma$ is the velocity dispersion of the galaxy.\n",
        "\n",
        "### **Example 1:**\n",
        "Import the 4 csv files relevant to option 2 of the computational essay using ascii. Then use the rotational velocity and velocity dispersion to generate a log stellar mass versus $S_{0.5}$ plot for the GAMA objects."
      ]
    },
    {
      "cell_type": "code",
      "execution_count": null,
      "metadata": {},
      "outputs": [],
      "source": [
        "# import data\n",
        "morphology = ascii.read(\"samiDR3VisualMorphology.csv\", format='basic', delimiter=',', guess=False)\n",
        "kinematics = ascii.read(\"samiDR3StelKin.csv\", format='basic', delimiter=',', guess=False)\n",
        "clusters = ascii.read(\"samiDR3InputCatClusters.csv\", format='basic', delimiter=',', guess=False)\n",
        "gama = ascii.read(\"InputCatGAMADR3.csv\", format='basic', delimiter=',', guess=False)"
      ]
    },
    {
      "cell_type": "code",
      "execution_count": null,
      "metadata": {},
      "outputs": [],
      "source": [
        "# for reference, let's print these tables\n",
        "morphology"
      ]
    },
    {
      "cell_type": "code",
      "execution_count": null,
      "metadata": {},
      "outputs": [],
      "source": [
        "kinematics"
      ]
    },
    {
      "cell_type": "code",
      "execution_count": null,
      "metadata": {},
      "outputs": [],
      "source": [
        "clusters"
      ]
    },
    {
      "cell_type": "code",
      "execution_count": null,
      "metadata": {},
      "outputs": [],
      "source": [
        "gama"
      ]
    },
    {
      "cell_type": "markdown",
      "metadata": {},
      "source": [
        "If we look at the tables, it can be seen that some of the kinematics data associated with the gama and clusters objects are listed in the separate kinematics csv file. Therefore we must first combined the data sets by matching the objects names.\n",
        "\n",
        "It is also important to note that the velocity dispersion is given under the column *sigma_re*, the flux weighted $V/\\sigma$ within effective radius effective ellipse is given under the column *vsigma_re*, and the log of the stellar mass is given under *mstar*."
      ]
    },
    {
      "cell_type": "code",
      "execution_count": null,
      "metadata": {},
      "outputs": [],
      "source": [
        "# Combine the gama table with the kinematics table, by cross matching the list of CATIDs\n",
        "gama_kinematics = join(gama, kinematics, keys='catid')\n",
        "\n",
        "# Calculate S0.5 for gama galaxies\n",
        "gama_s05 = np.sqrt(0.5*(gama_kinematics['vsigma_re']*gama_kinematics['sigma_re'])**2 +\n",
        "                   gama_kinematics['sigma_re']**2)\n",
        "gama_s05_no_nan = gama_s05[~np.isnan(gama_s05)] # to remove nan\n",
        "\n",
        "# log of stellar mass\n",
        "log_gama_mass = gama_kinematics['mstar']\n",
        "log_gama_mass_no_nan = log_gama_mass[~np.isnan(gama_s05)] # to delete corresponding rows\n",
        "\n",
        "# Plot the log-log relation between stellar mass and S0.5\n",
        "plt.plot(np.log(gama_s05_no_nan), log_gama_mass_no_nan, '+',\n",
        "         markersize=5, color = 'royalblue', label='GAMA')\n",
        "plt.xlabel('$logS_{0.5}$ $[km/s]$') # x-axis label\n",
        "plt.ylabel('$logM_*$ $[M_\\odot]$') # y-axis label\n",
        "plt.legend(loc='lower right') # show legend"
      ]
    },
    {
      "cell_type": "markdown",
      "metadata": {},
      "source": [
        "### **Excercise 1:**\n",
        "Repeat example 1 with the cluster objects."
      ]
    },
    {
      "cell_type": "code",
      "execution_count": null,
      "metadata": {},
      "outputs": [],
      "source": []
    },
    {
      "cell_type": "markdown",
      "metadata": {},
      "source": [
        "## Linear Fitting\n",
        "As we know, linear fitting is an important skill in physics, and is a key method to determine the relationship between two parameters.\n",
        "### **Example 2:**\n",
        "Using the GAMA objects, fit a linear function to relate $S_{0.5}$ and stellar mass."
      ]
    },
    {
      "cell_type": "code",
      "execution_count": null,
      "metadata": {},
      "outputs": [],
      "source": [
        "# define a general linear function\n",
        "def linear(parameters, x):\n",
        "    m, c = parameters\n",
        "    return m*x+c"
      ]
    },
    {
      "cell_type": "code",
      "execution_count": null,
      "metadata": {},
      "outputs": [],
      "source": [
        "# Fitting the linear curve to the data\n",
        "model = Model(linear) # making the defined function into a model\n",
        "# takes the real data and fits it to the model with an initial guess for the parameters\n",
        "gama_odr = ODR(RealData(np.log(gama_s05_no_nan), log_gama_mass_no_nan),\n",
        "                 model, beta0=[2,7])\n",
        "gama_output = gama_odr.run()\n",
        "gama_output.pprint()"
      ]
    },
    {
      "cell_type": "code",
      "execution_count": null,
      "metadata": {},
      "outputs": [],
      "source": [
        "# plot the original figure with the line of best fit\n",
        "plt.plot(np.log(gama_s05_no_nan), log_gama_mass_no_nan, '+',\n",
        "         markersize=5, color = 'royalblue', label='GAMA') # orginal data\n",
        "plt.plot(np.log(gama_s05_no_nan), linear(gama_output.beta, np.log(gama_s05_no_nan)),\n",
        "         color='red', label = \"y = ({:.2f} +/- {:.2f}) * x\\n+ ({:.2f} +/- {:.2f})\"\n",
        "         .format(gama_output.beta[0], gama_output.sd_beta[0],gama_output.beta[1], gama_output.sd_beta[1]))\n",
        "\n",
        "plt.xlabel('$logS_{0.5}$ $[km/s]$') # x-axis label\n",
        "plt.ylabel('$logM_*$ $[M_\\odot]$') # y-axis label\n",
        "plt.legend(loc='lower right') # show legend"
      ]
    },
    {
      "cell_type": "markdown",
      "metadata": {},
      "source": [
        "### **Excercise 2:**\n",
        "Find the line of best fit for the galaxies in clusters. Then compare the trends from the gama galaxies and galaxies in clusters"
      ]
    },
    {
      "cell_type": "code",
      "execution_count": null,
      "metadata": {},
      "outputs": [],
      "source": []
    },
    {
      "cell_type": "markdown",
      "metadata": {},
      "source": [
        "## BPT Diagram\n",
        "### **Example and Exercise 3:**\n",
        "Using the classifications given in Kewley et al. (2016), plot the emission line galaxy on a $\\log⁡([OIII]/[OII])$ versus $\\log⁡([OI]/H_\\alpha)$ plot:\n",
        "1. HII & Composites: $\\log⁡([OIII]/[OII])<−1.701 \\log⁡([OI]/H_\\alpha)−2.163$\n",
        "2. LINERS: $\\log⁡([OIII]/[OII])<1.0 \\log⁡([OI]/H_\\alpha)+0.7$\n",
        "3. Seyferts: $\\log⁡([OIII]/[OII])>1.0 \\log⁡([OI]/H_\\alpha)+0.7$\n"
      ]
    },
    {
      "cell_type": "code",
      "execution_count": null,
      "metadata": {},
      "outputs": [],
      "source": [
        "# Finding the ratios for a chosen object\n",
        "# SDSS ID: 1237648720693756163\n",
        "# import data from shared csv file\n",
        "emission_lines = ascii.read('sdss_spectra.csv', format='basic', delimiter=',')\n",
        "\n",
        "# define lines\n",
        "oi = emission_lines['[O I]']\n",
        "oii = emission_lines['[O II]1'] + emission_lines['[O II]2']\n",
        "oiii = emission_lines['[O III]']\n",
        "halpha = emission_lines['[Ha]']\n",
        "\n",
        "# find ratios\n",
        "oi_ha = np.log(oi/halpha)\n",
        "oiii_oii = np.log(oiii/oii)"
      ]
    },
    {
      "cell_type": "code",
      "execution_count": null,
      "metadata": {},
      "outputs": [],
      "source": [
        "# Plot the diagnostic lines:\n",
        "# let y = log([OIII]/[OII]) and x = log([OI]/H_alpha)\n",
        "\n",
        "# find intersection of the diagnostic lines\n",
        "intersect = (-2.163-0.7)/2.701\n",
        "\n",
        "# defining the lines\n",
        "x_hii= np.linspace(-3,1,1000)\n",
        "y_hii = -1.701*x_hii-2.163\n",
        "x_liner = np.linspace(intersect,1,1000)\n",
        "y_liner = x_liner+0.7\n",
        "\n",
        "# plotting diagnostic lines\n",
        "plt.plot(x_hii, y_hii, 'black')\n",
        "plt.plot(x_liner,y_liner, 'black')\n",
        "\n",
        "# plot the emission galaxy\n",
        "plt.plot(oi_ha, oiii_oii, '*', color='darkviolet')\n",
        "\n",
        "# plot display settings\n",
        "plt.xlabel('$\\log([OI]/H$\\\\alpha$)$')\n",
        "plt.ylabel('$\\log([OIII]/[OII])$')\n",
        "plt.margins(x=0)\n",
        "plt.margins(y=0)\n",
        "\n",
        "# Labels\n",
        "plt.text(-2.1, -2.5, 'HII', fontsize=12, color = 'crimson', fontweight='bold')\n",
        "plt.text(-1.3, 1.4, 'Seyferts', fontsize = 12, color = 'mediumblue', fontweight='bold')\n",
        "plt.text(0, -0.7, 'LINERs', fontsize = 12, color = 'mediumseagreen', fontweight='bold')"
      ]
    }
  ],
  "metadata": {
    "colab": {
      "provenance": []
    },
    "kernelspec": {
      "display_name": "ngistenv",
      "language": "python",
      "name": "python3"
    },
    "language_info": {
      "codemirror_mode": {
        "name": "ipython",
        "version": 3
      },
      "file_extension": ".py",
      "mimetype": "text/x-python",
      "name": "python",
      "nbconvert_exporter": "python",
      "pygments_lexer": "ipython3",
      "version": "3.11.13"
    }
  },
  "nbformat": 4,
  "nbformat_minor": 0
}
